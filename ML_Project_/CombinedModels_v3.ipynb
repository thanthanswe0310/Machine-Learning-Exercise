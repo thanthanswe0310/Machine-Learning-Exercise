{
 "cells": [
  {
   "attachments": {},
   "cell_type": "markdown",
   "metadata": {},
   "source": [
    "Import Necessary Dependencies"
   ]
  },
  {
   "cell_type": "code",
   "execution_count": 1,
   "metadata": {},
   "outputs": [],
   "source": [
    "import numpy as np\n",
    "import pandas as pd\n",
    "import xlrd as xl\n",
    "from pandas import ExcelWriter\n",
    "from pandas import ExcelFile\n",
    "import pickle, re, json, os, datetime, time\n",
    "\n",
    "import pprint\n",
    "pp = pprint.PrettyPrinter(indent=4)"
   ]
  },
  {
   "attachments": {},
   "cell_type": "markdown",
   "metadata": {},
   "source": [
    "#Read the Data"
   ]
  },
  {
   "cell_type": "code",
   "execution_count": 37,
   "metadata": {},
   "outputs": [],
   "source": [
    "data = pd.read_excel('../data/all_data.xlsx')\n",
    "data['Text Content']=data['Text Content'].astype(str)\n",
    "data['Code']=data['Code'].astype(str)"
   ]
  },
  {
   "cell_type": "code",
   "execution_count": 38,
   "metadata": {},
   "outputs": [
    {
     "name": "stdout",
     "output_type": "stream",
     "text": [
      "Size of data (instances) is 8536\n"
     ]
    }
   ],
   "source": [
    "sz = data['Code'].size\n",
    "print(f\"Size of data (instances) is {sz}\")"
   ]
  },
  {
   "attachments": {},
   "cell_type": "markdown",
   "metadata": {},
   "source": [
    "Appending Original Data"
   ]
  },
  {
   "cell_type": "code",
   "execution_count": 39,
   "metadata": {},
   "outputs": [],
   "source": [
    "# Extract features and labels and convert them to vectors/lists\n",
    "features = data['Text Content'].tolist() \n",
    "labels = data['Code'].tolist()"
   ]
  },
  {
   "cell_type": "code",
   "execution_count": 42,
   "metadata": {},
   "outputs": [
    {
     "name": "stdout",
     "output_type": "stream",
     "text": [
      "Locations of nan in the list: []\n"
     ]
    }
   ],
   "source": [
    "## Only use this functio to remove unwanted rows\n",
    "def find_locations(my_list, value):\n",
    "    locations = []\n",
    "    for i, element in enumerate(my_list):\n",
    "        if element == value:\n",
    "            locations.append(i)\n",
    "    return locations\n",
    "\n",
    "# Example usage\n",
    "my_list = labels\n",
    "search_value = 'nan' ##unwanted row's labels\n",
    "\n",
    "result = find_locations(my_list, search_value)\n",
    "print(f\"Locations of {search_value} in the list: {result}\")\n"
   ]
  },
  {
   "cell_type": "code",
   "execution_count": 43,
   "metadata": {},
   "outputs": [
    {
     "name": "stdout",
     "output_type": "stream",
     "text": [
      "Number of unique knowledge types: 14\n",
      "[   'Bug Reproduction',\n",
      "    'Contribution and Commitment',\n",
      "    'Expected Behaviour',\n",
      "    'Future Plan',\n",
      "    'Investigation and Exploration',\n",
      "    'Motivation',\n",
      "    'Observed Bug Behaviour',\n",
      "    'Potential New Issues and Requests',\n",
      "    'Solution Discussion',\n",
      "    'Solution Usage',\n",
      "    'Task Progress',\n",
      "    'Testing',\n",
      "    'Usage',\n",
      "    'Workarounds']\n"
     ]
    }
   ],
   "source": [
    "## Get the set of all unique knowledge types in the corpus\n",
    "import pprint\n",
    "knowledge_types = list(set(labels))\n",
    "print(\"Number of unique knowledge types: \"+str(len(knowledge_types)))\n",
    "knowledge_types.sort()\n",
    "\n",
    "pp.pprint(knowledge_types)"
   ]
  },
  {
   "attachments": {},
   "cell_type": "markdown",
   "metadata": {},
   "source": [
    "Logistic Regression"
   ]
  },
  {
   "cell_type": "code",
   "execution_count": 9,
   "metadata": {},
   "outputs": [],
   "source": [
    "from sklearn.linear_model import LogisticRegression\n",
    "from sklearn.metrics import classification_report\n",
    "from sklearn.feature_extraction.text import CountVectorizer\n",
    "from sklearn.model_selection import train_test_split"
   ]
  },
  {
   "cell_type": "code",
   "execution_count": 44,
   "metadata": {},
   "outputs": [],
   "source": [
    "# Split dataset into training (80%) and test sets (20%)\n",
    "X_train, X_test, y_train, y_test = train_test_split(features, labels, test_size=0.2, random_state=42, shuffle=True)"
   ]
  },
  {
   "cell_type": "code",
   "execution_count": 45,
   "metadata": {},
   "outputs": [
    {
     "name": "stdout",
     "output_type": "stream",
     "text": [
      "14.424575278265964\n"
     ]
    },
    {
     "data": {
      "image/png": "[encoded data removed]",
      "text/plain": [
       "<Figure size 432x288 with 1 Axes>"
      ]
     },
     "metadata": {
      "needs_background": "light"
     },
     "output_type": "display_data"
    }
   ],
   "source": [
    "# get length of all the messages in the train set\n",
    "seq_len = [len(i.split()) for i in X_train]\n",
    "pd.Series(seq_len).hist(bins = 30)\n",
    "\n",
    "histogram = pd.Series(seq_len)\n",
    "histogram.hist(bins=30)\n",
    "print(histogram.mean())"
   ]
  },
  {
   "cell_type": "code",
   "execution_count": 46,
   "metadata": {},
   "outputs": [
    {
     "data": {
      "application/vnd.plotly.v1+json": {
       "config": {
        "plotlyServerURL": "https://plot.ly"
       },
       "data": [
        {
         "line": {
          "color": "blue"
         },
         "mode": "lines",
         "name": "Gaussian Distribution",
         "type": "scatter",
         "x": [
          -136.81562504226278,
          -133.76089267794302,
          -130.70616031362326,
          -127.65142794930351,
          -124.59669558498376,
          -121.541963220664,
          -118.48723085634424,
          -115.4324984920245,
          -112.37776612770473,
          -109.32303376338498,
          -106.26830139906522,
          -103.21356903474546,
          -100.15883667042571,
          -97.10410430610597,
          -94.0493719417862,
          -90.99463957746644,
          -87.93990721314668,
          -84.88517484882694,
          -81.83044248450719,
          -78.77571012018743,
          -75.72097775586766,
          -72.66624539154792,
          -69.61151302722816,
          -66.5567806629084,
          -63.50204829858865,
          -60.447315934268886,
          -57.39258356994914,
          -54.33785120562938,
          -51.283118841309616,
          -48.22838647698987,
          -45.17365411267011,
          -42.11892174835036,
          -39.0641893840306,
          -36.00945701971084,
          -32.95472465539109,
          -29.899992291071328,
          -26.84525992675158,
          -23.79052756243182,
          -20.735795198112058,
          -17.68106283379231,
          -14.626330469472549,
          -11.571598105152802,
          -8.516865740833055,
          -5.462133376513293,
          -2.4074010121935316,
          0.6473313521262298,
          3.7020637164459913,
          6.756796080765724,
          9.811528445085486,
          12.866260809405247,
          15.920993173725009,
          18.97572553804477,
          22.030457902364503,
          25.085190266684265,
          28.139922631004026,
          31.194654995323788,
          34.24938735964355,
          37.30411972396328,
          40.358852088283044,
          43.413584452602805,
          46.46831681692257,
          49.52304918124233,
          52.57778154556206,
          55.63251390988182,
          58.687246274201584,
          61.741978638521346,
          64.7967110028411,
          67.85144336716084,
          70.9061757314806,
          73.96090809580036,
          77.01564046012012,
          80.07037282443989,
          83.12510518875962,
          86.17983755307938,
          89.23456991739914,
          92.2893022817189,
          95.34403464603866,
          98.3987670103584,
          101.45349937467816,
          104.50823173899792,
          107.56296410331768,
          110.61769646763744,
          113.67242883195718,
          116.72716119627694,
          119.78189356059667,
          122.83662592491643,
          125.8913582892362,
          128.94609065355596,
          132.00082301787572,
          135.05555538219548,
          138.11028774651524,
          141.165020110835,
          144.21975247515476,
          147.27448483947452,
          150.32921720379423,
          153.383949568114,
          156.43868193243375,
          159.4934142967535,
          162.54814666107328,
          165.60287902539304
         ],
         "y": [
          0.00008792811985366874,
          0.0001052671384969345,
          0.00012556327757973947,
          0.0001492235147164146,
          0.00017669191653875134,
          0.0002084495170930363,
          0.00024501343585956673,
          0.00028693511679560535,
          0.0003347975727605692,
          0.0003892115268454341,
          0.0004508103539857224,
          0.0005202437431773672,
          0.0005981700228909741,
          0.0006852471199778912,
          0.0007821221553667057,
          0.0008894197178205142,
          0.0010077288993753028,
          0.0011375892219608126,
          0.0012794756330089933,
          0.0014337827972225954,
          0.0016008089605214037,
          0.0017807397087298204,
          0.0019736319859017764,
          0.002179398773307111,
          0.002397794858038081,
          0.002628404138030843,
          0.0028706289163056647,
          0.0031236816299498875,
          0.0033865794376959366,
          0.0036581420532206398,
          0.003936993159360879,
          0.004221565671719947,
          0.004510111039644023,
          0.004800712679902895,
          0.00509130353582798,
          0.005379687644903176,
          0.0056635654840990046,
          0.0059405627481864814,
          0.006208262105705983,
          0.00646423737414162,
          0.006706089464049434,
          0.006931483365075344,
          0.007138185388261824,
          0.0073240998415317424,
          0.007487304300835373,
          0.007626082649451917,
          0.007738955092788023,
          0.007824704415243473,
          0.00788239782793569,
          0.007911403859028408,
          0.007911403859028408,
          0.00788239782793569,
          0.007824704415243475,
          0.007738955092788024,
          0.007626082649451918,
          0.007487304300835374,
          0.007324099841531743,
          0.007138185388261826,
          0.006931483365075345,
          0.0067060894640494344,
          0.006464237374141622,
          0.006208262105705983,
          0.005940562748186485,
          0.005663565484099007,
          0.005379687644903177,
          0.005091303535827981,
          0.004800712679902895,
          0.004510111039644027,
          0.0042215656717199505,
          0.003936993159360881,
          0.0036581420532206415,
          0.0033865794376959366,
          0.00312368162994989,
          0.0028706289163056664,
          0.002628404138030843,
          0.002397794858038081,
          0.002179398773307111,
          0.0019736319859017786,
          0.001780739708729822,
          0.0016008089605214037,
          0.0014337827972225954,
          0.0012794756330089933,
          0.0011375892219608141,
          0.0010077288993753028,
          0.000889419717820515,
          0.0007821221553667066,
          0.0006852471199778924,
          0.0005981700228909749,
          0.0005202437431773672,
          0.0004508103539857224,
          0.0003892115268454341,
          0.0003347975727605692,
          0.00028693511679560535,
          0.0002450134358595665,
          0.00020844951709303656,
          0.00017669191653875158,
          0.00014922351471641479,
          0.00012556327757973947,
          0.0001052671384969345,
          0.00008792811985366874
         ]
        }
       ],
       "layout": {
        "template": {
         "data": {
          "bar": [
           {
            "error_x": {
             "color": "#2a3f5f"
            },
            "error_y": {
             "color": "#2a3f5f"
            },
            "marker": {
             "line": {
              "color": "#E5ECF6",
              "width": 0.5
             },
             "pattern": {
              "fillmode": "overlay",
              "size": 10,
              "solidity": 0.2
             }
            },
            "type": "bar"
           }
          ],
          "barpolar": [
           {
            "marker": {
             "line": {
              "color": "#E5ECF6",
              "width": 0.5
             },
             "pattern": {
              "fillmode": "overlay",
              "size": 10,
              "solidity": 0.2
             }
            },
            "type": "barpolar"
           }
          ],
          "carpet": [
           {
            "aaxis": {
             "endlinecolor": "#2a3f5f",
             "gridcolor": "white",
             "linecolor": "white",
             "minorgridcolor": "white",
             "startlinecolor": "#2a3f5f"
            },
            "baxis": {
             "endlinecolor": "#2a3f5f",
             "gridcolor": "white",
             "linecolor": "white",
             "minorgridcolor": "white",
             "startlinecolor": "#2a3f5f"
            },
            "type": "carpet"
           }
          ],
          "choropleth": [
           {
            "colorbar": {
             "outlinewidth": 0,
             "ticks": ""
            },
            "type": "choropleth"
           }
          ],
          "contour": [
           {
            "colorbar": {
             "outlinewidth": 0,
             "ticks": ""
            },
            "colorscale": [
             [
              0,
              "#0d0887"
             ],
             [
              0.1111111111111111,
              "#46039f"
             ],
             [
              0.2222222222222222,
              "#7201a8"
             ],
             [
              0.3333333333333333,
              "#9c179e"
             ],
             [
              0.4444444444444444,
              "#bd3786"
             ],
             [
              0.5555555555555556,
              "#d8576b"
             ],
             [
              0.6666666666666666,
              "#ed7953"
             ],
             [
              0.7777777777777778,
              "#fb9f3a"
             ],
             [
              0.8888888888888888,
              "#fdca26"
             ],
             [
              1,
              "#f0f921"
             ]
            ],
            "type": "contour"
           }
          ],
          "contourcarpet": [
           {
            "colorbar": {
             "outlinewidth": 0,
             "ticks": ""
            },
            "type": "contourcarpet"
           }
          ],
          "heatmap": [
           {
            "colorbar": {
             "outlinewidth": 0,
             "ticks": ""
            },
            "colorscale": [
             [
              0,
              "#0d0887"
             ],
             [
              0.1111111111111111,
              "#46039f"
             ],
             [
              0.2222222222222222,
              "#7201a8"
             ],
             [
              0.3333333333333333,
              "#9c179e"
             ],
             [
              0.4444444444444444,
              "#bd3786"
             ],
             [
              0.5555555555555556,
              "#d8576b"
             ],
             [
              0.6666666666666666,
              "#ed7953"
             ],
             [
              0.7777777777777778,
              "#fb9f3a"
             ],
             [
              0.8888888888888888,
              "#fdca26"
             ],
             [
              1,
              "#f0f921"
             ]
            ],
            "type": "heatmap"
           }
          ],
          "heatmapgl": [
           {
            "colorbar": {
             "outlinewidth": 0,
             "ticks": ""
            },
            "colorscale": [
             [
              0,
              "#0d0887"
             ],
             [
              0.1111111111111111,
              "#46039f"
             ],
             [
              0.2222222222222222,
              "#7201a8"
             ],
             [
              0.3333333333333333,
              "#9c179e"
             ],
             [
              0.4444444444444444,
              "#bd3786"
             ],
             [
              0.5555555555555556,
              "#d8576b"
             ],
             [
              0.6666666666666666,
              "#ed7953"
             ],
             [
              0.7777777777777778,
              "#fb9f3a"
             ],
             [
              0.8888888888888888,
              "#fdca26"
             ],
             [
              1,
              "#f0f921"
             ]
            ],
            "type": "heatmapgl"
           }
          ],
          "histogram": [
           {
            "marker": {
             "pattern": {
              "fillmode": "overlay",
              "size": 10,
              "solidity": 0.2
             }
            },
            "type": "histogram"
           }
          ],
          "histogram2d": [
           {
            "colorbar": {
             "outlinewidth": 0,
             "ticks": ""
            },
            "colorscale": [
             [
              0,
              "#0d0887"
             ],
             [
              0.1111111111111111,
              "#46039f"
             ],
             [
              0.2222222222222222,
              "#7201a8"
             ],
             [
              0.3333333333333333,
              "#9c179e"
             ],
             [
              0.4444444444444444,
              "#bd3786"
             ],
             [
              0.5555555555555556,
              "#d8576b"
             ],
             [
              0.6666666666666666,
              "#ed7953"
             ],
             [
              0.7777777777777778,
              "#fb9f3a"
             ],
             [
              0.8888888888888888,
              "#fdca26"
             ],
             [
              1,
              "#f0f921"
             ]
            ],
            "type": "histogram2d"
           }
          ],
          "histogram2dcontour": [
           {
            "colorbar": {
             "outlinewidth": 0,
             "ticks": ""
            },
            "colorscale": [
             [
              0,
              "#0d0887"
             ],
             [
              0.1111111111111111,
              "#46039f"
             ],
             [
              0.2222222222222222,
              "#7201a8"
             ],
             [
              0.3333333333333333,
              "#9c179e"
             ],
             [
              0.4444444444444444,
              "#bd3786"
             ],
             [
              0.5555555555555556,
              "#d8576b"
             ],
             [
              0.6666666666666666,
              "#ed7953"
             ],
             [
              0.7777777777777778,
              "#fb9f3a"
             ],
             [
              0.8888888888888888,
              "#fdca26"
             ],
             [
              1,
              "#f0f921"
             ]
            ],
            "type": "histogram2dcontour"
           }
          ],
          "mesh3d": [
           {
            "colorbar": {
             "outlinewidth": 0,
             "ticks": ""
            },
            "type": "mesh3d"
           }
          ],
          "parcoords": [
           {
            "line": {
             "colorbar": {
              "outlinewidth": 0,
              "ticks": ""
             }
            },
            "type": "parcoords"
           }
          ],
          "pie": [
           {
            "automargin": true,
            "type": "pie"
           }
          ],
          "scatter": [
           {
            "fillpattern": {
             "fillmode": "overlay",
             "size": 10,
             "solidity": 0.2
            },
            "type": "scatter"
           }
          ],
          "scatter3d": [
           {
            "line": {
             "colorbar": {
              "outlinewidth": 0,
              "ticks": ""
             }
            },
            "marker": {
             "colorbar": {
              "outlinewidth": 0,
              "ticks": ""
             }
            },
            "type": "scatter3d"
           }
          ],
          "scattercarpet": [
           {
            "marker": {
             "colorbar": {
              "outlinewidth": 0,
              "ticks": ""
             }
            },
            "type": "scattercarpet"
           }
          ],
          "scattergeo": [
           {
            "marker": {
             "colorbar": {
              "outlinewidth": 0,
              "ticks": ""
             }
            },
            "type": "scattergeo"
           }
          ],
          "scattergl": [
           {
            "marker": {
             "colorbar": {
              "outlinewidth": 0,
              "ticks": ""
             }
            },
            "type": "scattergl"
           }
          ],
          "scattermapbox": [
           {
            "marker": {
             "colorbar": {
              "outlinewidth": 0,
              "ticks": ""
             }
            },
            "type": "scattermapbox"
           }
          ],
          "scatterpolar": [
           {
            "marker": {
             "colorbar": {
              "outlinewidth": 0,
              "ticks": ""
             }
            },
            "type": "scatterpolar"
           }
          ],
          "scatterpolargl": [
           {
            "marker": {
             "colorbar": {
              "outlinewidth": 0,
              "ticks": ""
             }
            },
            "type": "scatterpolargl"
           }
          ],
          "scatterternary": [
           {
            "marker": {
             "colorbar": {
              "outlinewidth": 0,
              "ticks": ""
             }
            },
            "type": "scatterternary"
           }
          ],
          "surface": [
           {
            "colorbar": {
             "outlinewidth": 0,
             "ticks": ""
            },
            "colorscale": [
             [
              0,
              "#0d0887"
             ],
             [
              0.1111111111111111,
              "#46039f"
             ],
             [
              0.2222222222222222,
              "#7201a8"
             ],
             [
              0.3333333333333333,
              "#9c179e"
             ],
             [
              0.4444444444444444,
              "#bd3786"
             ],
             [
              0.5555555555555556,
              "#d8576b"
             ],
             [
              0.6666666666666666,
              "#ed7953"
             ],
             [
              0.7777777777777778,
              "#fb9f3a"
             ],
             [
              0.8888888888888888,
              "#fdca26"
             ],
             [
              1,
              "#f0f921"
             ]
            ],
            "type": "surface"
           }
          ],
          "table": [
           {
            "cells": {
             "fill": {
              "color": "#EBF0F8"
             },
             "line": {
              "color": "white"
             }
            },
            "header": {
             "fill": {
              "color": "#C8D4E3"
             },
             "line": {
              "color": "white"
             }
            },
            "type": "table"
           }
          ]
         },
         "layout": {
          "annotationdefaults": {
           "arrowcolor": "#2a3f5f",
           "arrowhead": 0,
           "arrowwidth": 1
          },
          "autotypenumbers": "strict",
          "coloraxis": {
           "colorbar": {
            "outlinewidth": 0,
            "ticks": ""
           }
          },
          "colorscale": {
           "diverging": [
            [
             0,
             "#8e0152"
            ],
            [
             0.1,
             "#c51b7d"
            ],
            [
             0.2,
             "#de77ae"
            ],
            [
             0.3,
             "#f1b6da"
            ],
            [
             0.4,
             "#fde0ef"
            ],
            [
             0.5,
             "#f7f7f7"
            ],
            [
             0.6,
             "#e6f5d0"
            ],
            [
             0.7,
             "#b8e186"
            ],
            [
             0.8,
             "#7fbc41"
            ],
            [
             0.9,
             "#4d9221"
            ],
            [
             1,
             "#276419"
            ]
           ],
           "sequential": [
            [
             0,
             "#0d0887"
            ],
            [
             0.1111111111111111,
             "#46039f"
            ],
            [
             0.2222222222222222,
             "#7201a8"
            ],
            [
             0.3333333333333333,
             "#9c179e"
            ],
            [
             0.4444444444444444,
             "#bd3786"
            ],
            [
             0.5555555555555556,
             "#d8576b"
            ],
            [
             0.6666666666666666,
             "#ed7953"
            ],
            [
             0.7777777777777778,
             "#fb9f3a"
            ],
            [
             0.8888888888888888,
             "#fdca26"
            ],
            [
             1,
             "#f0f921"
            ]
           ],
           "sequentialminus": [
            [
             0,
             "#0d0887"
            ],
            [
             0.1111111111111111,
             "#46039f"
            ],
            [
             0.2222222222222222,
             "#7201a8"
            ],
            [
             0.3333333333333333,
             "#9c179e"
            ],
            [
             0.4444444444444444,
             "#bd3786"
            ],
            [
             0.5555555555555556,
             "#d8576b"
            ],
            [
             0.6666666666666666,
             "#ed7953"
            ],
            [
             0.7777777777777778,
             "#fb9f3a"
            ],
            [
             0.8888888888888888,
             "#fdca26"
            ],
            [
             1,
             "#f0f921"
            ]
           ]
          },
          "colorway": [
           "#636efa",
           "#EF553B",
           "#00cc96",
           "#ab63fa",
           "#FFA15A",
           "#19d3f3",
           "#FF6692",
           "#B6E880",
           "#FF97FF",
           "#FECB52"
          ],
          "font": {
           "color": "#2a3f5f"
          },
          "geo": {
           "bgcolor": "white",
           "lakecolor": "white",
           "landcolor": "#E5ECF6",
           "showlakes": true,
           "showland": true,
           "subunitcolor": "white"
          },
          "hoverlabel": {
           "align": "left"
          },
          "hovermode": "closest",
          "mapbox": {
           "style": "light"
          },
          "paper_bgcolor": "white",
          "plot_bgcolor": "#E5ECF6",
          "polar": {
           "angularaxis": {
            "gridcolor": "white",
            "linecolor": "white",
            "ticks": ""
           },
           "bgcolor": "#E5ECF6",
           "radialaxis": {
            "gridcolor": "white",
            "linecolor": "white",
            "ticks": ""
           }
          },
          "scene": {
           "xaxis": {
            "backgroundcolor": "#E5ECF6",
            "gridcolor": "white",
            "gridwidth": 2,
            "linecolor": "white",
            "showbackground": true,
            "ticks": "",
            "zerolinecolor": "white"
           },
           "yaxis": {
            "backgroundcolor": "#E5ECF6",
            "gridcolor": "white",
            "gridwidth": 2,
            "linecolor": "white",
            "showbackground": true,
            "ticks": "",
            "zerolinecolor": "white"
           },
           "zaxis": {
            "backgroundcolor": "#E5ECF6",
            "gridcolor": "white",
            "gridwidth": 2,
            "linecolor": "white",
            "showbackground": true,
            "ticks": "",
            "zerolinecolor": "white"
           }
          },
          "shapedefaults": {
           "line": {
            "color": "#2a3f5f"
           }
          },
          "ternary": {
           "aaxis": {
            "gridcolor": "white",
            "linecolor": "white",
            "ticks": ""
           },
           "baxis": {
            "gridcolor": "white",
            "linecolor": "white",
            "ticks": ""
           },
           "bgcolor": "#E5ECF6",
           "caxis": {
            "gridcolor": "white",
            "linecolor": "white",
            "ticks": ""
           }
          },
          "title": {
           "x": 0.05
          },
          "xaxis": {
           "automargin": true,
           "gridcolor": "white",
           "linecolor": "white",
           "ticks": "",
           "title": {
            "standoff": 15
           },
           "zerolinecolor": "white",
           "zerolinewidth": 2
          },
          "yaxis": {
           "automargin": true,
           "gridcolor": "white",
           "linecolor": "white",
           "ticks": "",
           "title": {
            "standoff": 15
           },
           "zerolinecolor": "white",
           "zerolinewidth": 2
          }
         }
        },
        "title": {
         "text": "Gaussian Distribution of Number of Words in Sentences"
        },
        "xaxis": {
         "title": {
          "text": "Number of Words"
         }
        },
        "yaxis": {
         "title": {
          "text": "Probability Density"
         }
        }
       }
      }
     },
     "metadata": {},
     "output_type": "display_data"
    },
    {
     "name": "stdout",
     "output_type": "stream",
     "text": [
      "Peak x-values: [12.86626081 15.92099317]\n"
     ]
    }
   ],
   "source": [
    "import numpy as np\n",
    "import plotly.graph_objects as go\n",
    "\n",
    "sentences = features\n",
    "\n",
    "# Calculate the number of words in each sentence\n",
    "num_words = [len(sentence.split()) for sentence in sentences]\n",
    "\n",
    "# Calculate mean and standard deviation of the number of words\n",
    "mean = np.mean(num_words)\n",
    "std_dev = np.std(num_words)\n",
    "\n",
    "# Create an array of values for the x-axis\n",
    "x = np.linspace(mean - 3*std_dev, mean + 3*std_dev, 100)\n",
    "\n",
    "# Calculate the corresponding y-values using the Gaussian distribution formula\n",
    "y = (1/(std_dev * np.sqrt(2 * np.pi))) * np.exp(-0.5 * ((x - mean)/std_dev)**2)\n",
    "\n",
    "# Create the trace for the Gaussian distribution\n",
    "trace = go.Scatter(x=x, y=y, mode='lines', line=dict(color='blue'), name='Gaussian Distribution')\n",
    "\n",
    "# Create the layout\n",
    "layout = go.Layout(\n",
    "    title='Gaussian Distribution of Number of Words in Sentences',\n",
    "    xaxis=dict(title='Number of Words'),\n",
    "    yaxis=dict(title='Probability Density')\n",
    ")\n",
    "\n",
    "# Create the figure\n",
    "fig = go.Figure(data=[trace], layout=layout)\n",
    "\n",
    "# Show the figure\n",
    "fig.show()\n",
    "\n",
    "## Find the peak indices of the y-values\n",
    "peak_indices = np.where(y == np.max(y))[0]\n",
    "\n",
    "# Get the corresponding x-values for the peak indices\n",
    "peak_x_values = x[peak_indices]\n",
    "# Print the peak x-values\n",
    "print(\"Peak x-values:\", peak_x_values)"
   ]
  },
  {
   "cell_type": "code",
   "execution_count": 50,
   "metadata": {},
   "outputs": [
    {
     "name": "stderr",
     "output_type": "stream",
     "text": [
      "C:\\Users\\Soihem\\AppData\\Roaming\\Python\\Python310\\site-packages\\sklearn\\linear_model\\_logistic.py:814: ConvergenceWarning:\n",
      "\n",
      "lbfgs failed to converge (status=1):\n",
      "STOP: TOTAL NO. of ITERATIONS REACHED LIMIT.\n",
      "\n",
      "Increase the number of iterations (max_iter) or scale the data as shown in:\n",
      "    https://scikit-learn.org/stable/modules/preprocessing.html\n",
      "Please also refer to the documentation for alternative solver options:\n",
      "    https://scikit-learn.org/stable/modules/linear_model.html#logistic-regression\n",
      "\n",
      "C:\\Users\\Soihem\\AppData\\Roaming\\Python\\Python310\\site-packages\\sklearn\\linear_model\\_logistic.py:814: ConvergenceWarning:\n",
      "\n",
      "lbfgs failed to converge (status=1):\n",
      "STOP: TOTAL NO. of ITERATIONS REACHED LIMIT.\n",
      "\n",
      "Increase the number of iterations (max_iter) or scale the data as shown in:\n",
      "    https://scikit-learn.org/stable/modules/preprocessing.html\n",
      "Please also refer to the documentation for alternative solver options:\n",
      "    https://scikit-learn.org/stable/modules/linear_model.html#logistic-regression\n",
      "\n",
      "C:\\Users\\Soihem\\AppData\\Roaming\\Python\\Python310\\site-packages\\sklearn\\linear_model\\_logistic.py:814: ConvergenceWarning:\n",
      "\n",
      "lbfgs failed to converge (status=1):\n",
      "STOP: TOTAL NO. of ITERATIONS REACHED LIMIT.\n",
      "\n",
      "Increase the number of iterations (max_iter) or scale the data as shown in:\n",
      "    https://scikit-learn.org/stable/modules/preprocessing.html\n",
      "Please also refer to the documentation for alternative solver options:\n",
      "    https://scikit-learn.org/stable/modules/linear_model.html#logistic-regression\n",
      "\n",
      "C:\\Users\\Soihem\\AppData\\Roaming\\Python\\Python310\\site-packages\\sklearn\\linear_model\\_logistic.py:814: ConvergenceWarning:\n",
      "\n",
      "lbfgs failed to converge (status=1):\n",
      "STOP: TOTAL NO. of ITERATIONS REACHED LIMIT.\n",
      "\n",
      "Increase the number of iterations (max_iter) or scale the data as shown in:\n",
      "    https://scikit-learn.org/stable/modules/preprocessing.html\n",
      "Please also refer to the documentation for alternative solver options:\n",
      "    https://scikit-learn.org/stable/modules/linear_model.html#logistic-regression\n",
      "\n",
      "C:\\Users\\Soihem\\AppData\\Roaming\\Python\\Python310\\site-packages\\sklearn\\linear_model\\_logistic.py:814: ConvergenceWarning:\n",
      "\n",
      "lbfgs failed to converge (status=1):\n",
      "STOP: TOTAL NO. of ITERATIONS REACHED LIMIT.\n",
      "\n",
      "Increase the number of iterations (max_iter) or scale the data as shown in:\n",
      "    https://scikit-learn.org/stable/modules/preprocessing.html\n",
      "Please also refer to the documentation for alternative solver options:\n",
      "    https://scikit-learn.org/stable/modules/linear_model.html#logistic-regression\n",
      "\n",
      "C:\\Users\\Soihem\\AppData\\Roaming\\Python\\Python310\\site-packages\\sklearn\\linear_model\\_logistic.py:814: ConvergenceWarning:\n",
      "\n",
      "lbfgs failed to converge (status=1):\n",
      "STOP: TOTAL NO. of ITERATIONS REACHED LIMIT.\n",
      "\n",
      "Increase the number of iterations (max_iter) or scale the data as shown in:\n",
      "    https://scikit-learn.org/stable/modules/preprocessing.html\n",
      "Please also refer to the documentation for alternative solver options:\n",
      "    https://scikit-learn.org/stable/modules/linear_model.html#logistic-regression\n",
      "\n",
      "C:\\Users\\Soihem\\AppData\\Roaming\\Python\\Python310\\site-packages\\sklearn\\linear_model\\_logistic.py:814: ConvergenceWarning:\n",
      "\n",
      "lbfgs failed to converge (status=1):\n",
      "STOP: TOTAL NO. of ITERATIONS REACHED LIMIT.\n",
      "\n",
      "Increase the number of iterations (max_iter) or scale the data as shown in:\n",
      "    https://scikit-learn.org/stable/modules/preprocessing.html\n",
      "Please also refer to the documentation for alternative solver options:\n",
      "    https://scikit-learn.org/stable/modules/linear_model.html#logistic-regression\n",
      "\n",
      "C:\\Users\\Soihem\\AppData\\Roaming\\Python\\Python310\\site-packages\\sklearn\\linear_model\\_logistic.py:814: ConvergenceWarning:\n",
      "\n",
      "lbfgs failed to converge (status=1):\n",
      "STOP: TOTAL NO. of ITERATIONS REACHED LIMIT.\n",
      "\n",
      "Increase the number of iterations (max_iter) or scale the data as shown in:\n",
      "    https://scikit-learn.org/stable/modules/preprocessing.html\n",
      "Please also refer to the documentation for alternative solver options:\n",
      "    https://scikit-learn.org/stable/modules/linear_model.html#logistic-regression\n",
      "\n",
      "C:\\Users\\Soihem\\AppData\\Roaming\\Python\\Python310\\site-packages\\sklearn\\linear_model\\_logistic.py:814: ConvergenceWarning:\n",
      "\n",
      "lbfgs failed to converge (status=1):\n",
      "STOP: TOTAL NO. of ITERATIONS REACHED LIMIT.\n",
      "\n",
      "Increase the number of iterations (max_iter) or scale the data as shown in:\n",
      "    https://scikit-learn.org/stable/modules/preprocessing.html\n",
      "Please also refer to the documentation for alternative solver options:\n",
      "    https://scikit-learn.org/stable/modules/linear_model.html#logistic-regression\n",
      "\n",
      "C:\\Users\\Soihem\\AppData\\Roaming\\Python\\Python310\\site-packages\\sklearn\\linear_model\\_logistic.py:814: ConvergenceWarning:\n",
      "\n",
      "lbfgs failed to converge (status=1):\n",
      "STOP: TOTAL NO. of ITERATIONS REACHED LIMIT.\n",
      "\n",
      "Increase the number of iterations (max_iter) or scale the data as shown in:\n",
      "    https://scikit-learn.org/stable/modules/preprocessing.html\n",
      "Please also refer to the documentation for alternative solver options:\n",
      "    https://scikit-learn.org/stable/modules/linear_model.html#logistic-regression\n",
      "\n",
      "C:\\Users\\Soihem\\AppData\\Roaming\\Python\\Python310\\site-packages\\sklearn\\linear_model\\_logistic.py:814: ConvergenceWarning:\n",
      "\n",
      "lbfgs failed to converge (status=1):\n",
      "STOP: TOTAL NO. of ITERATIONS REACHED LIMIT.\n",
      "\n",
      "Increase the number of iterations (max_iter) or scale the data as shown in:\n",
      "    https://scikit-learn.org/stable/modules/preprocessing.html\n",
      "Please also refer to the documentation for alternative solver options:\n",
      "    https://scikit-learn.org/stable/modules/linear_model.html#logistic-regression\n",
      "\n",
      "C:\\Users\\Soihem\\AppData\\Roaming\\Python\\Python310\\site-packages\\sklearn\\linear_model\\_logistic.py:814: ConvergenceWarning:\n",
      "\n",
      "lbfgs failed to converge (status=1):\n",
      "STOP: TOTAL NO. of ITERATIONS REACHED LIMIT.\n",
      "\n",
      "Increase the number of iterations (max_iter) or scale the data as shown in:\n",
      "    https://scikit-learn.org/stable/modules/preprocessing.html\n",
      "Please also refer to the documentation for alternative solver options:\n",
      "    https://scikit-learn.org/stable/modules/linear_model.html#logistic-regression\n",
      "\n",
      "C:\\Users\\Soihem\\AppData\\Roaming\\Python\\Python310\\site-packages\\sklearn\\linear_model\\_logistic.py:814: ConvergenceWarning:\n",
      "\n",
      "lbfgs failed to converge (status=1):\n",
      "STOP: TOTAL NO. of ITERATIONS REACHED LIMIT.\n",
      "\n",
      "Increase the number of iterations (max_iter) or scale the data as shown in:\n",
      "    https://scikit-learn.org/stable/modules/preprocessing.html\n",
      "Please also refer to the documentation for alternative solver options:\n",
      "    https://scikit-learn.org/stable/modules/linear_model.html#logistic-regression\n",
      "\n",
      "C:\\Users\\Soihem\\AppData\\Roaming\\Python\\Python310\\site-packages\\sklearn\\linear_model\\_logistic.py:814: ConvergenceWarning:\n",
      "\n",
      "lbfgs failed to converge (status=1):\n",
      "STOP: TOTAL NO. of ITERATIONS REACHED LIMIT.\n",
      "\n",
      "Increase the number of iterations (max_iter) or scale the data as shown in:\n",
      "    https://scikit-learn.org/stable/modules/preprocessing.html\n",
      "Please also refer to the documentation for alternative solver options:\n",
      "    https://scikit-learn.org/stable/modules/linear_model.html#logistic-regression\n",
      "\n",
      "C:\\Users\\Soihem\\AppData\\Roaming\\Python\\Python310\\site-packages\\sklearn\\linear_model\\_logistic.py:814: ConvergenceWarning:\n",
      "\n",
      "lbfgs failed to converge (status=1):\n",
      "STOP: TOTAL NO. of ITERATIONS REACHED LIMIT.\n",
      "\n",
      "Increase the number of iterations (max_iter) or scale the data as shown in:\n",
      "    https://scikit-learn.org/stable/modules/preprocessing.html\n",
      "Please also refer to the documentation for alternative solver options:\n",
      "    https://scikit-learn.org/stable/modules/linear_model.html#logistic-regression\n",
      "\n",
      "C:\\Users\\Soihem\\AppData\\Roaming\\Python\\Python310\\site-packages\\sklearn\\linear_model\\_logistic.py:814: ConvergenceWarning:\n",
      "\n",
      "lbfgs failed to converge (status=1):\n",
      "STOP: TOTAL NO. of ITERATIONS REACHED LIMIT.\n",
      "\n",
      "Increase the number of iterations (max_iter) or scale the data as shown in:\n",
      "    https://scikit-learn.org/stable/modules/preprocessing.html\n",
      "Please also refer to the documentation for alternative solver options:\n",
      "    https://scikit-learn.org/stable/modules/linear_model.html#logistic-regression\n",
      "\n",
      "C:\\Users\\Soihem\\AppData\\Roaming\\Python\\Python310\\site-packages\\sklearn\\linear_model\\_logistic.py:814: ConvergenceWarning:\n",
      "\n",
      "lbfgs failed to converge (status=1):\n",
      "STOP: TOTAL NO. of ITERATIONS REACHED LIMIT.\n",
      "\n",
      "Increase the number of iterations (max_iter) or scale the data as shown in:\n",
      "    https://scikit-learn.org/stable/modules/preprocessing.html\n",
      "Please also refer to the documentation for alternative solver options:\n",
      "    https://scikit-learn.org/stable/modules/linear_model.html#logistic-regression\n",
      "\n",
      "C:\\Users\\Soihem\\AppData\\Roaming\\Python\\Python310\\site-packages\\sklearn\\linear_model\\_logistic.py:814: ConvergenceWarning:\n",
      "\n",
      "lbfgs failed to converge (status=1):\n",
      "STOP: TOTAL NO. of ITERATIONS REACHED LIMIT.\n",
      "\n",
      "Increase the number of iterations (max_iter) or scale the data as shown in:\n",
      "    https://scikit-learn.org/stable/modules/preprocessing.html\n",
      "Please also refer to the documentation for alternative solver options:\n",
      "    https://scikit-learn.org/stable/modules/linear_model.html#logistic-regression\n",
      "\n",
      "C:\\Users\\Soihem\\AppData\\Roaming\\Python\\Python310\\site-packages\\sklearn\\linear_model\\_logistic.py:814: ConvergenceWarning:\n",
      "\n",
      "lbfgs failed to converge (status=1):\n",
      "STOP: TOTAL NO. of ITERATIONS REACHED LIMIT.\n",
      "\n",
      "Increase the number of iterations (max_iter) or scale the data as shown in:\n",
      "    https://scikit-learn.org/stable/modules/preprocessing.html\n",
      "Please also refer to the documentation for alternative solver options:\n",
      "    https://scikit-learn.org/stable/modules/linear_model.html#logistic-regression\n",
      "\n",
      "C:\\Users\\Soihem\\AppData\\Roaming\\Python\\Python310\\site-packages\\sklearn\\linear_model\\_logistic.py:814: ConvergenceWarning:\n",
      "\n",
      "lbfgs failed to converge (status=1):\n",
      "STOP: TOTAL NO. of ITERATIONS REACHED LIMIT.\n",
      "\n",
      "Increase the number of iterations (max_iter) or scale the data as shown in:\n",
      "    https://scikit-learn.org/stable/modules/preprocessing.html\n",
      "Please also refer to the documentation for alternative solver options:\n",
      "    https://scikit-learn.org/stable/modules/linear_model.html#logistic-regression\n",
      "\n",
      "C:\\Users\\Soihem\\AppData\\Roaming\\Python\\Python310\\site-packages\\sklearn\\linear_model\\_logistic.py:814: ConvergenceWarning:\n",
      "\n",
      "lbfgs failed to converge (status=1):\n",
      "STOP: TOTAL NO. of ITERATIONS REACHED LIMIT.\n",
      "\n",
      "Increase the number of iterations (max_iter) or scale the data as shown in:\n",
      "    https://scikit-learn.org/stable/modules/preprocessing.html\n",
      "Please also refer to the documentation for alternative solver options:\n",
      "    https://scikit-learn.org/stable/modules/linear_model.html#logistic-regression\n",
      "\n",
      "C:\\Users\\Soihem\\AppData\\Roaming\\Python\\Python310\\site-packages\\sklearn\\linear_model\\_logistic.py:814: ConvergenceWarning:\n",
      "\n",
      "lbfgs failed to converge (status=1):\n",
      "STOP: TOTAL NO. of ITERATIONS REACHED LIMIT.\n",
      "\n",
      "Increase the number of iterations (max_iter) or scale the data as shown in:\n",
      "    https://scikit-learn.org/stable/modules/preprocessing.html\n",
      "Please also refer to the documentation for alternative solver options:\n",
      "    https://scikit-learn.org/stable/modules/linear_model.html#logistic-regression\n",
      "\n",
      "C:\\Users\\Soihem\\AppData\\Roaming\\Python\\Python310\\site-packages\\sklearn\\linear_model\\_logistic.py:814: ConvergenceWarning:\n",
      "\n",
      "lbfgs failed to converge (status=1):\n",
      "STOP: TOTAL NO. of ITERATIONS REACHED LIMIT.\n",
      "\n",
      "Increase the number of iterations (max_iter) or scale the data as shown in:\n",
      "    https://scikit-learn.org/stable/modules/preprocessing.html\n",
      "Please also refer to the documentation for alternative solver options:\n",
      "    https://scikit-learn.org/stable/modules/linear_model.html#logistic-regression\n",
      "\n",
      "C:\\Users\\Soihem\\AppData\\Roaming\\Python\\Python310\\site-packages\\sklearn\\linear_model\\_logistic.py:814: ConvergenceWarning:\n",
      "\n",
      "lbfgs failed to converge (status=1):\n",
      "STOP: TOTAL NO. of ITERATIONS REACHED LIMIT.\n",
      "\n",
      "Increase the number of iterations (max_iter) or scale the data as shown in:\n",
      "    https://scikit-learn.org/stable/modules/preprocessing.html\n",
      "Please also refer to the documentation for alternative solver options:\n",
      "    https://scikit-learn.org/stable/modules/linear_model.html#logistic-regression\n",
      "\n",
      "C:\\Users\\Soihem\\AppData\\Roaming\\Python\\Python310\\site-packages\\sklearn\\linear_model\\_logistic.py:814: ConvergenceWarning:\n",
      "\n",
      "lbfgs failed to converge (status=1):\n",
      "STOP: TOTAL NO. of ITERATIONS REACHED LIMIT.\n",
      "\n",
      "Increase the number of iterations (max_iter) or scale the data as shown in:\n",
      "    https://scikit-learn.org/stable/modules/preprocessing.html\n",
      "Please also refer to the documentation for alternative solver options:\n",
      "    https://scikit-learn.org/stable/modules/linear_model.html#logistic-regression\n",
      "\n",
      "C:\\Users\\Soihem\\AppData\\Roaming\\Python\\Python310\\site-packages\\sklearn\\linear_model\\_logistic.py:814: ConvergenceWarning:\n",
      "\n",
      "lbfgs failed to converge (status=1):\n",
      "STOP: TOTAL NO. of ITERATIONS REACHED LIMIT.\n",
      "\n",
      "Increase the number of iterations (max_iter) or scale the data as shown in:\n",
      "    https://scikit-learn.org/stable/modules/preprocessing.html\n",
      "Please also refer to the documentation for alternative solver options:\n",
      "    https://scikit-learn.org/stable/modules/linear_model.html#logistic-regression\n",
      "\n",
      "C:\\Users\\Soihem\\AppData\\Roaming\\Python\\Python310\\site-packages\\sklearn\\linear_model\\_logistic.py:814: ConvergenceWarning:\n",
      "\n",
      "lbfgs failed to converge (status=1):\n",
      "STOP: TOTAL NO. of ITERATIONS REACHED LIMIT.\n",
      "\n",
      "Increase the number of iterations (max_iter) or scale the data as shown in:\n",
      "    https://scikit-learn.org/stable/modules/preprocessing.html\n",
      "Please also refer to the documentation for alternative solver options:\n",
      "    https://scikit-learn.org/stable/modules/linear_model.html#logistic-regression\n",
      "\n"
     ]
    },
    {
     "data": {
      "image/png": "[encoded data removed]",
      "text/plain": [
       "<Figure size 432x288 with 1 Axes>"
      ]
     },
     "metadata": {
      "needs_background": "light"
     },
     "output_type": "display_data"
    }
   ],
   "source": [
    "import matplotlib.pyplot as plt\n",
    "C_values=[0.01, 0.1, 0.2, 0.3, 0.5, 0.7, 0.9, 1, 1.2, 1.4, 1.5, 1.7, 1.9, 2.5, 4, 5, 6, 7, 8, 9, 10, 12, 15, 17, 19, 20, 25, 30, 50]\n",
    "accuracy_scores=[]\n",
    "acc2_score=[]\n",
    "for C in C_values:    \n",
    "    vectorizer = CountVectorizer()\n",
    "    X_train_tf = vectorizer.fit_transform(X_train)\n",
    "    X_test_tf = vectorizer.transform(X_test)\n",
    "\n",
    "    clf = LogisticRegression(penalty='l2', solver='lbfgs', C=C)\n",
    "    model = clf.fit(X_train_tf, y_train)\n",
    "    y_pred = clf.predict(X_test_tf)\n",
    "    accuracy = model.score(X_test_tf, y_test)\n",
    "    acc2 = model.score(X_train_tf, y_train)\n",
    "    accuracy_scores.append(accuracy)\n",
    "    acc2_score.append(acc2)\n",
    "    #print(classification_report(y_test, y_pred))\n",
    "    #print(\"Accuracy on test set\")\n",
    "    #print(accuracy)\n",
    "    #print(\"Accuracy on training\")\n",
    "    #print(acc2)\n",
    "#print(classification_report(y_test, y_pred))\n",
    "plt.plot(C_values, accuracy_scores, marker='o', label='Test accuracy')\n",
    "plt.plot(C_values, acc2_score, marker='s', label='Training accuracy')\n",
    "plt.xscale('log')\n",
    "plt.legend()\n",
    "plt.xlabel('Regularization Strength (C)')\n",
    "plt.ylabel('Accuracy')\n",
    "plt.title('Regularization Path')\n",
    "plt.show()"
   ]
  },
  {
   "cell_type": "code",
   "execution_count": 52,
   "metadata": {},
   "outputs": [
    {
     "name": "stdout",
     "output_type": "stream",
     "text": [
      "The optimal regularixation parameter is: 9\n"
     ]
    }
   ],
   "source": [
    "#Optimal value of C that maximizes Test accuracy\n",
    "l = list(zip(C_values, accuracy_scores))\n",
    "# Find the maximum value in the second column\n",
    "max_value = max(l, key=lambda x: x[1])\n",
    "print(f\"The optimal regularixation parameter is: {max_value[0]}\")"
   ]
  },
  {
   "cell_type": "code",
   "execution_count": 53,
   "metadata": {},
   "outputs": [
    {
     "name": "stdout",
     "output_type": "stream",
     "text": [
      "                                   precision    recall  f1-score   support\n",
      "\n",
      "                 Bug Reproduction       0.63      0.62      0.63       148\n",
      "      Contribution and Commitment       0.84      0.86      0.85       170\n",
      "               Expected Behaviour       0.35      0.23      0.28        30\n",
      "                      Future Plan       0.86      0.86      0.86         7\n",
      "    Investigation and Exploration       0.58      0.53      0.55       167\n",
      "                       Motivation       0.48      0.48      0.48        71\n",
      "           Observed Bug Behaviour       0.71      0.50      0.59        90\n",
      "Potential New Issues and Requests       0.43      0.31      0.36        52\n",
      "              Solution Discussion       0.73      0.84      0.78       796\n",
      "                   Solution Usage       0.67      0.50      0.57         4\n",
      "                    Task Progress       0.54      0.43      0.48        30\n",
      "                          Testing       0.75      0.50      0.60         6\n",
      "                            Usage       0.54      0.46      0.50        71\n",
      "                      Workarounds       0.73      0.45      0.56        66\n",
      "\n",
      "                         accuracy                           0.69      1708\n",
      "                        macro avg       0.63      0.54      0.58      1708\n",
      "                     weighted avg       0.68      0.69      0.68      1708\n",
      "\n",
      "Accuracy on test set\n",
      "0.6914519906323185\n",
      "Accuracy on training\n",
      "0.9802284710017575\n"
     ]
    },
    {
     "name": "stderr",
     "output_type": "stream",
     "text": [
      "C:\\Users\\Soihem\\AppData\\Roaming\\Python\\Python310\\site-packages\\sklearn\\linear_model\\_logistic.py:814: ConvergenceWarning:\n",
      "\n",
      "lbfgs failed to converge (status=1):\n",
      "STOP: TOTAL NO. of ITERATIONS REACHED LIMIT.\n",
      "\n",
      "Increase the number of iterations (max_iter) or scale the data as shown in:\n",
      "    https://scikit-learn.org/stable/modules/preprocessing.html\n",
      "Please also refer to the documentation for alternative solver options:\n",
      "    https://scikit-learn.org/stable/modules/linear_model.html#logistic-regression\n",
      "\n"
     ]
    }
   ],
   "source": [
    "from sklearn.metrics import classification_report\n",
    "\n",
    "X_train, X_test, y_train, y_test = train_test_split(features, labels, test_size=0.2, random_state=10, shuffle=True)\n",
    "\n",
    "vectorizer = CountVectorizer()\n",
    "X_train_tf = vectorizer.fit_transform(X_train)\n",
    "X_test_tf = vectorizer.transform(X_test)\n",
    "\n",
    "clf = LogisticRegression(penalty='l2', solver='lbfgs', C=max_value[0])\n",
    "model = clf.fit(X_train_tf, y_train)\n",
    "y_pred = clf.predict(X_test_tf)\n",
    "accuracy = model.score(X_test_tf, y_test)\n",
    "acc2 = model.score(X_train_tf, y_train)\n",
    "print(classification_report(y_test, y_pred))\n",
    "print(\"Accuracy on test set\")\n",
    "print(accuracy)\n",
    "print(\"Accuracy on training\")\n",
    "print(acc2)"
   ]
  },
  {
   "attachments": {},
   "cell_type": "markdown",
   "metadata": {},
   "source": [
    "CNN"
   ]
  },
  {
   "cell_type": "code",
   "execution_count": 91,
   "metadata": {},
   "outputs": [],
   "source": [
    "import numpy as np\n",
    "import tensorflow\n",
    "from tensorflow import keras\n",
    "from tensorflow.keras.models import Sequential\n",
    "from tensorflow.keras.layers import Embedding, Conv1D, GlobalMaxPooling1D, Dense, MaxPool1D\n",
    "from tensorflow.keras.preprocessing.sequence import pad_sequences\n",
    "from tensorflow.keras.utils import to_categorical\n",
    "from sklearn.model_selection import train_test_split"
   ]
  },
  {
   "cell_type": "code",
   "execution_count": 56,
   "metadata": {},
   "outputs": [],
   "source": [
    "# Split dataset into training and validation sets\n",
    "X_train, X_test, y_train, y_test = train_test_split(features, labels, test_size=0.2, random_state=42, shuffle=True)"
   ]
  },
  {
   "cell_type": "code",
   "execution_count": null,
   "metadata": {},
   "outputs": [],
   "source": [
    "# Split dataset into training and test sets\n",
    "#X_train, X_test, y_train, y_test = train_test_split(features, labels, test_size=0.2, random_state=42, shuffle=True)\n",
    "\n",
    "# Split training set into training and validation sets\n",
    "#X_train, X_val, y_train, y_val = train_test_split(X_train, y_train, test_size=0.2, random_state=42, shuffle=True)\n"
   ]
  },
  {
   "cell_type": "code",
   "execution_count": 57,
   "metadata": {},
   "outputs": [],
   "source": [
    "# Encode labels as integers\n",
    "from sklearn.preprocessing import LabelEncoder\n",
    "le = LabelEncoder()\n",
    "le.fit(y_train)\n",
    "y_train = le.transform(y_train)\n",
    "y_test = le.transform(y_test)"
   ]
  },
  {
   "cell_type": "code",
   "execution_count": 58,
   "metadata": {},
   "outputs": [],
   "source": [
    "# Convert target variables to one-hot encoding\n",
    "num_classes = len(knowledge_types)\n",
    "y_train = to_categorical(y_train, num_classes)\n",
    "y_test = to_categorical(y_test, num_classes)"
   ]
  },
  {
   "cell_type": "code",
   "execution_count": 74,
   "metadata": {},
   "outputs": [],
   "source": [
    "# Tokenize and pad sequences\n",
    "from tensorflow.keras.preprocessing.text import Tokenizer\n",
    "#max_sequence_length = 1000\n",
    "max_sequence_length = 30 # because most of the sentences contain 16 words, for faster training\n",
    "tokenizer = Tokenizer(num_words=5000)\n",
    "tokenizer.fit_on_texts(X_train)\n",
    "X_train_seq = tokenizer.texts_to_sequences(X_train)\n",
    "X_test_seq = tokenizer.texts_to_sequences(X_test)\n",
    "X_train_pad = pad_sequences(X_train_seq, maxlen=max_sequence_length)\n",
    "X_test_pad = pad_sequences(X_test_seq, maxlen=max_sequence_length)"
   ]
  },
  {
   "cell_type": "code",
   "execution_count": 75,
   "metadata": {},
   "outputs": [
    {
     "name": "stdout",
     "output_type": "stream",
     "text": [
      "Vocabulary size 10335\n"
     ]
    }
   ],
   "source": [
    "vocab_size = len(tokenizer.word_index)+1\n",
    "print(\"Vocabulary size\", vocab_size)"
   ]
  },
  {
   "cell_type": "code",
   "execution_count": 88,
   "metadata": {},
   "outputs": [],
   "source": [
    "# Define the model architecture\n",
    "from keras.layers import Dense, Dropout, Embedding, Conv1D, GlobalMaxPooling1D\n",
    "model = Sequential()\n",
    "model.add(Embedding(input_dim=10335, output_dim=100, input_length=max_sequence_length))\n",
    "model.add(Conv1D(filters=16, kernel_size=4, activation='relu'))\n",
    "model.add(GlobalMaxPooling1D())\n",
    "#model.add(Dense(units=64, activation='relu'))\n",
    "model.add(Dropout(rate=0.2))\n",
    "model.add(Dense(units=num_classes, activation='softmax'))"
   ]
  },
  {
   "cell_type": "code",
   "execution_count": 89,
   "metadata": {},
   "outputs": [],
   "source": [
    "# Compile the model\n",
    "model.compile(loss='categorical_crossentropy', optimizer='adam', metrics=['accuracy'])"
   ]
  },
  {
   "cell_type": "code",
   "execution_count": 84,
   "metadata": {},
   "outputs": [
    {
     "name": "stdout",
     "output_type": "stream",
     "text": [
      "Epoch 1/20\n",
      "214/214 [==============================] - 6s 26ms/step - loss: 2.0563 - accuracy: 0.4047 - val_loss: 1.8227 - val_accuracy: 0.4889\n",
      "Epoch 2/20\n",
      "214/214 [==============================] - 4s 21ms/step - loss: 1.7162 - accuracy: 0.5095 - val_loss: 1.6439 - val_accuracy: 0.5316\n",
      "Epoch 3/20\n",
      "214/214 [==============================] - 5s 24ms/step - loss: 1.4852 - accuracy: 0.5631 - val_loss: 1.5192 - val_accuracy: 0.5539\n",
      "Epoch 4/20\n",
      "214/214 [==============================] - 6s 26ms/step - loss: 1.2851 - accuracy: 0.6153 - val_loss: 1.4447 - val_accuracy: 0.5738\n",
      "Epoch 5/20\n",
      "214/214 [==============================] - 5s 25ms/step - loss: 1.1109 - accuracy: 0.6626 - val_loss: 1.3978 - val_accuracy: 0.5937\n",
      "Epoch 6/20\n",
      "214/214 [==============================] - 6s 27ms/step - loss: 0.9801 - accuracy: 0.6976 - val_loss: 1.3662 - val_accuracy: 0.6083\n",
      "Epoch 7/20\n",
      "214/214 [==============================] - 5s 26ms/step - loss: 0.8650 - accuracy: 0.7310 - val_loss: 1.3507 - val_accuracy: 0.6095\n",
      "Epoch 8/20\n",
      "214/214 [==============================] - 5s 25ms/step - loss: 0.7708 - accuracy: 0.7642 - val_loss: 1.3400 - val_accuracy: 0.6159\n",
      "Epoch 9/20\n",
      "214/214 [==============================] - 5s 23ms/step - loss: 0.6877 - accuracy: 0.7939 - val_loss: 1.3293 - val_accuracy: 0.6323\n",
      "Epoch 10/20\n",
      "214/214 [==============================] - 5s 24ms/step - loss: 0.6207 - accuracy: 0.8161 - val_loss: 1.3466 - val_accuracy: 0.6300\n",
      "Epoch 11/20\n",
      "214/214 [==============================] - 5s 24ms/step - loss: 0.5689 - accuracy: 0.8264 - val_loss: 1.3683 - val_accuracy: 0.6475\n",
      "Epoch 12/20\n",
      "214/214 [==============================] - 5s 25ms/step - loss: 0.5139 - accuracy: 0.8448 - val_loss: 1.3896 - val_accuracy: 0.6399\n",
      "Epoch 13/20\n",
      "214/214 [==============================] - 5s 25ms/step - loss: 0.4733 - accuracy: 0.8597 - val_loss: 1.4013 - val_accuracy: 0.6557\n",
      "Epoch 14/20\n",
      "214/214 [==============================] - 6s 26ms/step - loss: 0.4312 - accuracy: 0.8742 - val_loss: 1.4449 - val_accuracy: 0.6452\n",
      "Epoch 15/20\n",
      "214/214 [==============================] - 5s 24ms/step - loss: 0.4026 - accuracy: 0.8808 - val_loss: 1.4555 - val_accuracy: 0.6452\n",
      "Epoch 16/20\n",
      "214/214 [==============================] - 6s 29ms/step - loss: 0.3679 - accuracy: 0.8905 - val_loss: 1.4855 - val_accuracy: 0.6505\n",
      "Epoch 17/20\n",
      "214/214 [==============================] - 6s 29ms/step - loss: 0.3465 - accuracy: 0.8938 - val_loss: 1.5322 - val_accuracy: 0.6522\n",
      "Epoch 18/20\n",
      "214/214 [==============================] - 6s 27ms/step - loss: 0.3285 - accuracy: 0.8998 - val_loss: 1.5728 - val_accuracy: 0.6528\n",
      "Epoch 19/20\n",
      "214/214 [==============================] - 6s 27ms/step - loss: 0.3055 - accuracy: 0.9083 - val_loss: 1.5707 - val_accuracy: 0.6458\n",
      "Epoch 20/20\n",
      "214/214 [==============================] - 6s 26ms/step - loss: 0.2973 - accuracy: 0.9117 - val_loss: 1.6278 - val_accuracy: 0.6563\n"
     ]
    },
    {
     "data": {
      "text/plain": [
       "<keras.callbacks.History at 0x23145bdc400>"
      ]
     },
     "execution_count": 84,
     "metadata": {},
     "output_type": "execute_result"
    }
   ],
   "source": [
    "# Train the model\n",
    "model.fit(X_train_pad, y_train, validation_data=(X_test_pad, y_test), epochs=20, batch_size=32)"
   ]
  },
  {
   "cell_type": "code",
   "execution_count": null,
   "metadata": {},
   "outputs": [],
   "source": [
    "#Validation Split method\n",
    "#model.fit(X_train_pad, y_train, validation_split=0.1, epochs=10, batch_size=32)"
   ]
  },
  {
   "cell_type": "code",
   "execution_count": null,
   "metadata": {},
   "outputs": [],
   "source": [
    "#Evaluation for validation split\n",
    "#model.evaluate(X_test_pad, y_test, batch_size=1)"
   ]
  },
  {
   "attachments": {},
   "cell_type": "markdown",
   "metadata": {},
   "source": [
    "Visualize your final result in Tensorboard (When you find the best hyperparameters after running the above model, run another model for tensorboard)"
   ]
  },
  {
   "cell_type": "code",
   "execution_count": 98,
   "metadata": {},
   "outputs": [],
   "source": [
    "# Define the model architecture\n",
    "from keras.layers import Dense, Dropout, Embedding, Conv1D, GlobalMaxPooling1D\n",
    "model = Sequential()\n",
    "model.add(Embedding(input_dim=10335, output_dim=30, input_length=max_sequence_length))\n",
    "model.add(Conv1D(filters=16, kernel_size=3, activation='relu'))\n",
    "model.add(GlobalMaxPooling1D())\n",
    "#model.add(Dense(units=64, activation='relu'))\n",
    "model.add(Dropout(rate=0.2))\n",
    "model.add(Dense(units=num_classes, activation='softmax'))"
   ]
  },
  {
   "cell_type": "code",
   "execution_count": 99,
   "metadata": {},
   "outputs": [],
   "source": [
    "# Compile the model\n",
    "model.compile(loss='categorical_crossentropy', optimizer='adam', metrics=['accuracy'])"
   ]
  },
  {
   "cell_type": "code",
   "execution_count": 100,
   "metadata": {},
   "outputs": [
    {
     "name": "stdout",
     "output_type": "stream",
     "text": [
      "The tensorboard extension is already loaded. To reload it, use:\n",
      "  %reload_ext tensorboard\n"
     ]
    }
   ],
   "source": [
    "%load_ext tensorboard"
   ]
  },
  {
   "cell_type": "code",
   "execution_count": 101,
   "metadata": {},
   "outputs": [],
   "source": [
    "import os\n",
    "root_logdir = os.path.join(os.curdir, \"my_logs3\")"
   ]
  },
  {
   "cell_type": "code",
   "execution_count": 102,
   "metadata": {},
   "outputs": [],
   "source": [
    "def get_run_logdir():\n",
    "    import time\n",
    "    run_id = time.strftime(\"run_%Y_%m_%d-%H_%M_%S\")\n",
    "    return os.path.join(root_logdir, run_id)\n",
    "run_logdir = get_run_logdir()"
   ]
  },
  {
   "cell_type": "code",
   "execution_count": 103,
   "metadata": {},
   "outputs": [
    {
     "name": "stdout",
     "output_type": "stream",
     "text": [
      "Epoch 1/30\n",
      "214/214 [==============================] - 2s 8ms/step - loss: 2.1352 - accuracy: 0.4329 - val_loss: 1.9094 - val_accuracy: 0.4508\n",
      "Epoch 2/30\n",
      "214/214 [==============================] - 1s 6ms/step - loss: 1.8098 - accuracy: 0.4892 - val_loss: 1.7469 - val_accuracy: 0.5082\n",
      "Epoch 3/30\n",
      "214/214 [==============================] - 1s 6ms/step - loss: 1.6165 - accuracy: 0.5340 - val_loss: 1.6305 - val_accuracy: 0.5345\n",
      "Epoch 4/30\n",
      "214/214 [==============================] - 1s 7ms/step - loss: 1.4549 - accuracy: 0.5704 - val_loss: 1.5544 - val_accuracy: 0.5544\n",
      "Epoch 5/30\n",
      "214/214 [==============================] - 1s 6ms/step - loss: 1.3220 - accuracy: 0.6076 - val_loss: 1.5137 - val_accuracy: 0.5609\n",
      "Epoch 6/30\n",
      "214/214 [==============================] - 1s 5ms/step - loss: 1.2295 - accuracy: 0.6336 - val_loss: 1.4818 - val_accuracy: 0.5697\n",
      "Epoch 7/30\n",
      "214/214 [==============================] - 2s 8ms/step - loss: 1.1363 - accuracy: 0.6583 - val_loss: 1.4715 - val_accuracy: 0.5785\n",
      "Epoch 8/30\n",
      "214/214 [==============================] - 2s 10ms/step - loss: 1.0546 - accuracy: 0.6797 - val_loss: 1.4545 - val_accuracy: 0.5861\n",
      "Epoch 9/30\n",
      "214/214 [==============================] - 1s 6ms/step - loss: 0.9828 - accuracy: 0.7006 - val_loss: 1.4475 - val_accuracy: 0.5884\n",
      "Epoch 10/30\n",
      "214/214 [==============================] - 1s 6ms/step - loss: 0.9297 - accuracy: 0.7184 - val_loss: 1.4579 - val_accuracy: 0.5960\n",
      "Epoch 11/30\n",
      "214/214 [==============================] - 1s 6ms/step - loss: 0.8702 - accuracy: 0.7351 - val_loss: 1.4606 - val_accuracy: 0.5984\n",
      "Epoch 12/30\n",
      "214/214 [==============================] - 1s 7ms/step - loss: 0.8193 - accuracy: 0.7513 - val_loss: 1.4651 - val_accuracy: 0.6060\n",
      "Epoch 13/30\n",
      "214/214 [==============================] - 1s 7ms/step - loss: 0.7813 - accuracy: 0.7632 - val_loss: 1.4750 - val_accuracy: 0.6142\n",
      "Epoch 14/30\n",
      "214/214 [==============================] - 2s 9ms/step - loss: 0.7444 - accuracy: 0.7739 - val_loss: 1.4908 - val_accuracy: 0.6159\n",
      "Epoch 15/30\n",
      "214/214 [==============================] - 1s 6ms/step - loss: 0.6924 - accuracy: 0.7869 - val_loss: 1.4926 - val_accuracy: 0.6142\n",
      "Epoch 16/30\n",
      "214/214 [==============================] - 2s 8ms/step - loss: 0.6600 - accuracy: 0.8010 - val_loss: 1.5191 - val_accuracy: 0.6118\n",
      "Epoch 17/30\n",
      "214/214 [==============================] - 1s 7ms/step - loss: 0.6307 - accuracy: 0.8102 - val_loss: 1.5420 - val_accuracy: 0.6159\n",
      "Epoch 18/30\n",
      "214/214 [==============================] - 1s 7ms/step - loss: 0.5965 - accuracy: 0.8165 - val_loss: 1.5590 - val_accuracy: 0.6118\n",
      "Epoch 19/30\n",
      "214/214 [==============================] - 1s 6ms/step - loss: 0.5839 - accuracy: 0.8204 - val_loss: 1.5784 - val_accuracy: 0.6212\n",
      "Epoch 20/30\n",
      "214/214 [==============================] - 2s 7ms/step - loss: 0.5554 - accuracy: 0.8307 - val_loss: 1.5946 - val_accuracy: 0.6224\n",
      "Epoch 21/30\n",
      "214/214 [==============================] - 1s 6ms/step - loss: 0.5246 - accuracy: 0.8366 - val_loss: 1.6153 - val_accuracy: 0.6206\n",
      "Epoch 22/30\n",
      "214/214 [==============================] - 2s 7ms/step - loss: 0.4946 - accuracy: 0.8505 - val_loss: 1.6375 - val_accuracy: 0.6259\n",
      "Epoch 23/30\n",
      "214/214 [==============================] - 1s 6ms/step - loss: 0.4935 - accuracy: 0.8540 - val_loss: 1.6633 - val_accuracy: 0.6259\n",
      "Epoch 24/30\n",
      "214/214 [==============================] - 2s 9ms/step - loss: 0.4606 - accuracy: 0.8576 - val_loss: 1.6759 - val_accuracy: 0.6306\n",
      "Epoch 25/30\n",
      "214/214 [==============================] - 2s 9ms/step - loss: 0.4437 - accuracy: 0.8634 - val_loss: 1.7123 - val_accuracy: 0.6270\n",
      "Epoch 26/30\n",
      "214/214 [==============================] - 1s 6ms/step - loss: 0.4299 - accuracy: 0.8697 - val_loss: 1.7447 - val_accuracy: 0.6247\n",
      "Epoch 27/30\n",
      "214/214 [==============================] - 1s 6ms/step - loss: 0.4155 - accuracy: 0.8714 - val_loss: 1.7842 - val_accuracy: 0.6270\n",
      "Epoch 28/30\n",
      "214/214 [==============================] - 1s 6ms/step - loss: 0.4026 - accuracy: 0.8742 - val_loss: 1.7928 - val_accuracy: 0.6288\n",
      "Epoch 29/30\n",
      "214/214 [==============================] - 1s 7ms/step - loss: 0.3833 - accuracy: 0.8827 - val_loss: 1.8329 - val_accuracy: 0.6306\n",
      "Epoch 30/30\n",
      "214/214 [==============================] - 3s 13ms/step - loss: 0.3715 - accuracy: 0.8831 - val_loss: 1.8412 - val_accuracy: 0.6329\n"
     ]
    }
   ],
   "source": [
    "## To visualize CNN in tensorboard (Optional)\n",
    "tensorboard_cb = keras.callbacks.TensorBoard(run_logdir)\n",
    "history = model.fit(X_train_pad, y_train, validation_data=(X_test_pad, y_test), epochs=30, batch_size=32,callbacks=[tensorboard_cb])"
   ]
  },
  {
   "cell_type": "code",
   "execution_count": 104,
   "metadata": {},
   "outputs": [
    {
     "data": {
      "text/html": [
       "\n",
       "      <iframe id=\"tensorboard-frame-618adab78d292c9e\" width=\"100%\" height=\"800\" frameborder=\"0\">\n",
       "      </iframe>\n",
       "      <script>\n",
       "        (function() {\n",
       "          const frame = document.getElementById(\"tensorboard-frame-618adab78d292c9e\");\n",
       "          const url = new URL(\"http://localhost\");\n",
       "          const port = 6006;\n",
       "          if (port) {\n",
       "            url.port = port;\n",
       "          }\n",
       "          frame.src = url;\n",
       "        })();\n",
       "      </script>\n",
       "    "
      ],
      "text/plain": [
       "<IPython.core.display.HTML object>"
      ]
     },
     "metadata": {},
     "output_type": "display_data"
    }
   ],
   "source": [
    "%load_ext tensorboard\n",
    "%tensorboard --logdir=./my_logs3 --port=6006"
   ]
  },
  {
   "cell_type": "code",
   "execution_count": null,
   "metadata": {},
   "outputs": [],
   "source": []
  }
 ],
 "metadata": {
  "kernelspec": {
   "display_name": "Python 3",
   "language": "python",
   "name": "python3"
  },
  "language_info": {
   "codemirror_mode": {
    "name": "ipython",
    "version": 3
   },
   "file_extension": ".py",
   "mimetype": "text/x-python",
   "name": "python",
   "nbconvert_exporter": "python",
   "pygments_lexer": "ipython3",
   "version": "3.10.4"
  },
  "orig_nbformat": 4
 },
 "nbformat": 4,
 "nbformat_minor": 2
}
